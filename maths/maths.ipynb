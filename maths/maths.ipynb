{
  "nbformat": 4,
  "nbformat_minor": 0,
  "metadata": {
    "colab": {
      "name": "maths.ipynb",
      "provenance": [],
      "collapsed_sections": [],
      "authorship_tag": "ABX9TyMwlAE2lNlPq7wUg6SWzdA2",
      "include_colab_link": true
    },
    "kernelspec": {
      "name": "python3",
      "display_name": "Python 3"
    },
    "language_info": {
      "name": "python"
    }
  },
  "cells": [
    {
      "cell_type": "markdown",
      "metadata": {
        "id": "view-in-github",
        "colab_type": "text"
      },
      "source": [
        "<a href=\"https://colab.research.google.com/github/saquibherman/PyTorch_Deep_Learning/blob/main/maths/maths.ipynb\" target=\"_parent\"><img src=\"https://colab.research.google.com/assets/colab-badge.svg\" alt=\"Open In Colab\"/></a>"
      ]
    },
    {
      "cell_type": "markdown",
      "metadata": {
        "id": "TZslA1XXxh0Y"
      },
      "source": [
        "# Vector and Matrix rTanspose"
      ]
    },
    {
      "cell_type": "code",
      "metadata": {
        "id": "WToZ4yvq0H_k"
      },
      "source": [
        "# import libraries\n",
        "import numpy as np\n",
        "import torch"
      ],
      "execution_count": null,
      "outputs": []
    },
    {
      "cell_type": "markdown",
      "metadata": {
        "id": "quBKPMdd0KRP"
      },
      "source": [
        "##Using numpy"
      ]
    },
    {
      "cell_type": "code",
      "metadata": {
        "colab": {
          "base_uri": "https://localhost:8080/"
        },
        "id": "pQnv4aHR0NHI",
        "outputId": "f7319688-1c5a-4319-ae29-e0f80bb5e855"
      },
      "source": [
        "# create a vector\n",
        "nv = np.array([ [1,2,3,4] ])\n",
        "print(nv), print(' ')\n",
        "\n",
        "# transpose it\n",
        "print(nv.T), print(' ')\n",
        "\n",
        "# transpose the transpose!\n",
        "nvT = nv.T\n",
        "print(nvT.T)"
      ],
      "execution_count": null,
      "outputs": [
        {
          "output_type": "stream",
          "name": "stdout",
          "text": [
            "[[1 2 3 4]]\n",
            " \n",
            "[[1]\n",
            " [2]\n",
            " [3]\n",
            " [4]]\n",
            " \n",
            "[[1 2 3 4]]\n"
          ]
        }
      ]
    },
    {
      "cell_type": "code",
      "metadata": {
        "colab": {
          "base_uri": "https://localhost:8080/"
        },
        "id": "b7DhuI250cGz",
        "outputId": "b4738555-0c6b-4839-e92f-3f13316984e6"
      },
      "source": [
        "# repeat for a matrix\n",
        "nM = np.array([ [1,2,3,4],\n",
        "                [5,6,7,8] \n",
        "               ])\n",
        "print(nM), print(' ')\n",
        "\n",
        "# transpose it\n",
        "print(nM.T), print(' ')\n",
        "\n",
        "# transpose the transpose!\n",
        "nMT = nM.T\n",
        "print(nMT.T)"
      ],
      "execution_count": null,
      "outputs": [
        {
          "output_type": "stream",
          "name": "stdout",
          "text": [
            "[[1 2 3 4]\n",
            " [5 6 7 8]]\n",
            " \n",
            "[[1 5]\n",
            " [2 6]\n",
            " [3 7]\n",
            " [4 8]]\n",
            " \n",
            "[[1 2 3 4]\n",
            " [5 6 7 8]]\n"
          ]
        }
      ]
    },
    {
      "cell_type": "markdown",
      "metadata": {
        "id": "nPREUrUz0SYf"
      },
      "source": [
        "##Using PyTorch"
      ]
    },
    {
      "cell_type": "code",
      "metadata": {
        "colab": {
          "base_uri": "https://localhost:8080/"
        },
        "id": "522pNlY00Xx4",
        "outputId": "aec18518-0e61-4828-9e09-03afac2e09f5"
      },
      "source": [
        "# create a vector\n",
        "tv = torch.tensor([ [1,2,3,4] ])\n",
        "print(tv), print(' ')\n",
        "\n",
        "# transpose it\n",
        "print(tv.T), print(' ')\n",
        "\n",
        "# transpose the transpose!\n",
        "tvT = tv.T\n",
        "print(tvT.T)"
      ],
      "execution_count": null,
      "outputs": [
        {
          "output_type": "stream",
          "name": "stdout",
          "text": [
            "tensor([[1, 2, 3, 4]])\n",
            " \n",
            "tensor([[1],\n",
            "        [2],\n",
            "        [3],\n",
            "        [4]])\n",
            " \n",
            "tensor([[1, 2, 3, 4]])\n"
          ]
        }
      ]
    },
    {
      "cell_type": "code",
      "metadata": {
        "colab": {
          "base_uri": "https://localhost:8080/"
        },
        "id": "4ATulG9P0jrB",
        "outputId": "31c3b1cd-ecd1-408a-ea6e-b0ccd24445cb"
      },
      "source": [
        "# repeat for a matrix\n",
        "tM = torch.tensor([ [1,2,3,4],[5,6,7,8] ])\n",
        "print(tM), print(' ')\n",
        "\n",
        "# transpose it\n",
        "print(tM.T), print(' ')\n",
        "\n",
        "# transpose the transpose!\n",
        "tMT = tM.T\n",
        "print(tMT.T)"
      ],
      "execution_count": null,
      "outputs": [
        {
          "output_type": "stream",
          "name": "stdout",
          "text": [
            "tensor([[1, 2, 3, 4],\n",
            "        [5, 6, 7, 8]])\n",
            " \n",
            "tensor([[1, 5],\n",
            "        [2, 6],\n",
            "        [3, 7],\n",
            "        [4, 8]])\n",
            " \n",
            "tensor([[1, 2, 3, 4],\n",
            "        [5, 6, 7, 8]])\n"
          ]
        }
      ]
    },
    {
      "cell_type": "code",
      "metadata": {
        "colab": {
          "base_uri": "https://localhost:8080/"
        },
        "id": "8yiClFKb0m0y",
        "outputId": "21d03199-6fce-4645-a96d-70ced4d80448"
      },
      "source": [
        "# examine data types\n",
        "print(f'Variable nv is of type {type(nv)}')\n",
        "print(f'Variable nM is of type {type(nM)}')\n",
        "print(f'Variable tv is of type {type(tv)}')\n",
        "print(f'Variable tM is of type {type(tM)}')"
      ],
      "execution_count": null,
      "outputs": [
        {
          "output_type": "stream",
          "name": "stdout",
          "text": [
            "Variable nv is of type <class 'numpy.ndarray'>\n",
            "Variable nM is of type <class 'numpy.ndarray'>\n",
            "Variable tv is of type <class 'torch.Tensor'>\n",
            "Variable tM is of type <class 'torch.Tensor'>\n"
          ]
        }
      ]
    },
    {
      "cell_type": "markdown",
      "metadata": {
        "id": "cDg7Os__z6p2"
      },
      "source": [
        "#Dot Product"
      ]
    },
    {
      "cell_type": "markdown",
      "metadata": {
        "id": "l1JCPGrNzXNk"
      },
      "source": [
        "##Using numpy"
      ]
    },
    {
      "cell_type": "code",
      "metadata": {
        "colab": {
          "base_uri": "https://localhost:8080/"
        },
        "id": "qsGgY3aWyp6U",
        "outputId": "fadd852d-304c-4491-d1a6-493bd8aa7c43"
      },
      "source": [
        "# create a vector\n",
        "nv1 = np.array([1,2,3,4])\n",
        "nv2 = np.array([0,1,0,-1])\n",
        "\n",
        "# dot product via function\n",
        "print(np.dot(nv1,nv2))\n",
        "\n",
        "# dot product via computation\n",
        "print(np.sum( nv1*nv2 ))"
      ],
      "execution_count": null,
      "outputs": [
        {
          "output_type": "stream",
          "name": "stdout",
          "text": [
            "-2\n",
            "-2\n"
          ]
        }
      ]
    },
    {
      "cell_type": "markdown",
      "metadata": {
        "id": "N78FF1JUzP4s"
      },
      "source": [
        "##Using PyTorch"
      ]
    },
    {
      "cell_type": "code",
      "metadata": {
        "colab": {
          "base_uri": "https://localhost:8080/"
        },
        "id": "bjHJMNL2yn9W",
        "outputId": "b25c4ef0-3924-4fe5-c773-2ff5dd1492af"
      },
      "source": [
        "# create a vector\n",
        "tv1 = torch.tensor([1,2,3,4])\n",
        "tv2 = torch.tensor([0,1,0,-1])\n",
        "\n",
        "# dot product via function\n",
        "print(torch.dot(tv1,tv2))\n",
        "\n",
        "# dot product via computation\n",
        "print(torch.sum( tv1*tv2 ))"
      ],
      "execution_count": null,
      "outputs": [
        {
          "output_type": "stream",
          "name": "stdout",
          "text": [
            "tensor(-2)\n",
            "tensor(-2)\n"
          ]
        }
      ]
    },
    {
      "cell_type": "markdown",
      "metadata": {
        "id": "C3SgcObgy9nN"
      },
      "source": [
        "# Matrix Multiplication"
      ]
    },
    {
      "cell_type": "markdown",
      "metadata": {
        "id": "om3FaRP3x8vZ"
      },
      "source": [
        "##Using numpy"
      ]
    },
    {
      "cell_type": "code",
      "metadata": {
        "colab": {
          "base_uri": "https://localhost:8080/"
        },
        "id": "Q58-lBs4yAQq",
        "outputId": "f09ec0a6-7c76-4965-8413-8e05d38e4d36"
      },
      "source": [
        "# create some random matrices\n",
        "A = np.random.randn(3,4)\n",
        "B = np.random.randn(4,5)\n",
        "C = np.random.randn(3,7)\n",
        "\n",
        "# try some multiplications...\n",
        "print(np.round( A@B   ,2)), print(' ')\n",
        "# print(np.round( A@C   ,2)), print(' ')\n",
        "# print(np.round( B@C   ,2)), print(' ')\n",
        "print(np.round( C.T@A ,2))"
      ],
      "execution_count": null,
      "outputs": [
        {
          "output_type": "stream",
          "name": "stdout",
          "text": [
            "[[ 0.19  0.99 -0.91 -0.8   0.19]\n",
            " [ 0.36 -0.98 -0.39 -0.15 -1.25]\n",
            " [ 0.16 -1.32 -0.65 -1.31 -1.75]]\n",
            " \n",
            "[[-0.91 -1.84  0.27  0.96]\n",
            " [ 1.46 -1.1  -1.09  0.03]\n",
            " [-3.05  3.3   1.45 -0.53]\n",
            " [-0.39 -0.51  0.12  0.3 ]\n",
            " [-0.72 -1.24 -1.08  0.58]\n",
            " [ 0.24  0.08  1.02 -0.01]\n",
            " [ 1.53 -4.45 -1.83  1.3 ]]\n"
          ]
        }
      ]
    },
    {
      "cell_type": "markdown",
      "metadata": {
        "id": "Yl4l9zXyyMNf"
      },
      "source": [
        "##Using PyTorch"
      ]
    },
    {
      "cell_type": "code",
      "metadata": {
        "colab": {
          "base_uri": "https://localhost:8080/"
        },
        "id": "Yjg52gMWyDv9",
        "outputId": "cf2ee66f-5687-4df3-e7aa-17efb59c2b76"
      },
      "source": [
        "# create some random matrices\n",
        "A  = torch.randn(3,4)\n",
        "B  = torch.randn(4,5)\n",
        "C1 = np.random.randn(4,7)\n",
        "C2 = torch.tensor( C1,dtype=torch.float )\n",
        "\n",
        "# try some multiplications...\n",
        "# print(np.round( A@B   ,2)), print(' ')\n",
        "# print(np.round( A@B.T ,2)), print(' ')\n",
        "print(np.round( A@C1  ,2)), print(' ')\n",
        "print(np.round( A@C2  ,2))"
      ],
      "execution_count": null,
      "outputs": [
        {
          "output_type": "stream",
          "name": "stdout",
          "text": [
            "tensor([[ 3.5700, -1.9700, -1.1900, -1.1700,  1.2100,  0.7800, -3.6400],\n",
            "        [-0.9500,  2.7600,  0.0400, -3.3100,  5.0800, -1.8800,  0.7300],\n",
            "        [ 0.6100,  1.4300, -0.4700,  1.4000, -2.1800, -0.6500, -1.8000]],\n",
            "       dtype=torch.float64)\n",
            " \n",
            "tensor([[ 3.5700, -1.9700, -1.1900, -1.1700,  1.2100,  0.7800, -3.6400],\n",
            "        [-0.9500,  2.7600,  0.0400, -3.3100,  5.0800, -1.8800,  0.7300],\n",
            "        [ 0.6100,  1.4300, -0.4700,  1.4000, -2.1800, -0.6500, -1.8000]])\n"
          ]
        }
      ]
    },
    {
      "cell_type": "markdown",
      "metadata": {
        "id": "aK697BJC2E8h"
      },
      "source": [
        "#Softmax"
      ]
    },
    {
      "cell_type": "code",
      "metadata": {
        "id": "irUIG_YSyQZ8"
      },
      "source": [
        "import torch.nn as nn\n",
        "import matplotlib.pyplot as plt"
      ],
      "execution_count": null,
      "outputs": []
    },
    {
      "cell_type": "markdown",
      "metadata": {
        "id": "L3bLPw4_2aUH"
      },
      "source": [
        "##Using numpy"
      ]
    },
    {
      "cell_type": "code",
      "metadata": {
        "colab": {
          "base_uri": "https://localhost:8080/"
        },
        "id": "TxTQmH5v2egN",
        "outputId": "40c661db-555d-46c7-eddb-f7db9dc15069"
      },
      "source": [
        "# \"manually\" in numpy\n",
        "\n",
        "# the list of numbers\n",
        "z = [1,2,3]\n",
        "\n",
        "# compute the softmax result\n",
        "num = np.exp(z)\n",
        "den = np.sum( np.exp(z) )\n",
        "sigma = num / den\n",
        "\n",
        "print(sigma)\n",
        "print(np.sum(sigma))"
      ],
      "execution_count": null,
      "outputs": [
        {
          "output_type": "stream",
          "name": "stdout",
          "text": [
            "[0.09003057 0.24472847 0.66524096]\n",
            "1.0\n"
          ]
        }
      ]
    },
    {
      "cell_type": "code",
      "metadata": {
        "colab": {
          "base_uri": "https://localhost:8080/"
        },
        "id": "CovTRpcO2fEC",
        "outputId": "a5c2f904-cd60-421e-e2f0-1120865e22f6"
      },
      "source": [
        "# repeat with some random integers\n",
        "z = np.random.randint(-5,high=15,size=25)\n",
        "print(z)\n",
        "\n",
        "# compute the softmax result\n",
        "num = np.exp(z)\n",
        "den = np.sum( num )\n",
        "sigma = num / den\n",
        "\n",
        "# compare\n",
        "plt.plot(z,sigma,'ko')\n",
        "plt.xlabel('Original number (z)')\n",
        "plt.ylabel('Softmaxified $\\sigma$')\n",
        "plt.yscale('log')\n",
        "plt.title('$\\sum\\sigma$ = %g' %np.sum(sigma))\n",
        "plt.show()"
      ],
      "execution_count": null,
      "outputs": [
        {
          "output_type": "stream",
          "name": "stdout",
          "text": [
            "[11 13  1 14  9  0  7 -4 14  9  1  5 10  7 12  7  0  5  7  9  8 13  6 12\n",
            " -3]\n"
          ]
        },
        {
          "output_type": "display_data",
          "data": {
            "image/png": "[encoded data removed]",
            "text/plain": [
              "<Figure size 432x288 with 1 Axes>"
            ]
          },
          "metadata": {
            "needs_background": "light"
          }
        }
      ]
    },
    {
      "cell_type": "markdown",
      "metadata": {
        "id": "0qiMRb6I2kVi"
      },
      "source": [
        "##Using PyTorch"
      ]
    },
    {
      "cell_type": "code",
      "metadata": {
        "colab": {
          "base_uri": "https://localhost:8080/"
        },
        "id": "3OIsdIyP2n6l",
        "outputId": "d0384252-aea5-4926-d8f2-e87d4e9d80ca"
      },
      "source": [
        "# slightly more involved using torch.nn\n",
        "\n",
        "# create an instance of the softmax activation class\n",
        "softfun = nn.Softmax(dim=0)\n",
        "\n",
        "# then apply the data to that function\n",
        "sigmaT = softfun( torch.Tensor(z) )\n",
        "\n",
        "# now we get the results\n",
        "print(sigmaT)"
      ],
      "execution_count": null,
      "outputs": [
        {
          "output_type": "stream",
          "name": "stdout",
          "text": [
            "tensor([1.6053e-02, 1.1861e-01, 7.2880e-07, 3.2243e-01, 2.1725e-03, 2.6811e-07,\n",
            "        2.9402e-04, 4.9106e-09, 3.2243e-01, 2.1725e-03, 7.2880e-07, 3.9791e-05,\n",
            "        5.9055e-03, 2.9402e-04, 4.3636e-02, 2.9402e-04, 2.6811e-07, 3.9791e-05,\n",
            "        2.9402e-04, 2.1725e-03, 7.9922e-04, 1.1861e-01, 1.0816e-04, 4.3636e-02,\n",
            "        1.3348e-08])\n"
          ]
        }
      ]
    },
    {
      "cell_type": "code",
      "metadata": {
        "colab": {
          "base_uri": "https://localhost:8080/"
        },
        "id": "tYLTiT3i2qmO",
        "outputId": "3a8d101c-07b8-4fff-cae7-1c50452e3410"
      },
      "source": [
        "# show that they are the same\n",
        "plt.plot(sigma,sigmaT,'ko')\n",
        "plt.xlabel('\"Manual\" softmax')\n",
        "plt.ylabel('Pytorch nn.Softmax')\n",
        "plt.title(f'The two methods correlate at r={np.corrcoef(sigma,sigmaT)[0,1]}')\n",
        "plt.show()"
      ],
      "execution_count": null,
      "outputs": [
        {
          "output_type": "display_data",
          "data": {
            "image/png": "[encoded data removed]",
            "text/plain": [
              "<Figure size 432x288 with 1 Axes>"
            ]
          },
          "metadata": {
            "needs_background": "light"
          }
        }
      ]
    },
    {
      "cell_type": "markdown",
      "metadata": {
        "id": "DPlT7joz2vZ-"
      },
      "source": [
        "# Logarithms"
      ]
    },
    {
      "cell_type": "code",
      "metadata": {
        "colab": {
          "base_uri": "https://localhost:8080/"
        },
        "id": "xvUWAlfb8tmo",
        "outputId": "27ce87d6-3bf1-4cc4-a047-7939566c0465"
      },
      "source": [
        "# define a set of points to evaluate\n",
        "x = np.linspace(.0001,1,200)\n",
        "\n",
        "# compute their log\n",
        "logx = np.log(x)\n",
        "\n",
        "\n",
        "\n",
        "# plot!\n",
        "fig = plt.figure(figsize=(10,4))\n",
        "\n",
        "# increase font size. FYI\n",
        "plt.rcParams.update({'font.size':15})\n",
        "\n",
        "plt.plot(x,logx,'ks-',markerfacecolor='w')\n",
        "plt.xlabel('x')\n",
        "plt.ylabel('log(x)')\n",
        "plt.show()"
      ],
      "execution_count": null,
      "outputs": [
        {
          "output_type": "display_data",
          "data": {
            "image/png": "[encoded data removed]",
            "text/plain": [
              "<Figure size 720x288 with 1 Axes>"
            ]
          },
          "metadata": {
            "needs_background": "light"
          }
        }
      ]
    },
    {
      "cell_type": "code",
      "metadata": {
        "colab": {
          "base_uri": "https://localhost:8080/"
        },
        "id": "82VUYIAV8zdf",
        "outputId": "fe36b86b-ec9e-4f3f-a75c-8861b0670fc9"
      },
      "source": [
        "# demonstration that log and exp are inverses\n",
        "\n",
        "# redefine with fewer points\n",
        "x = np.linspace(.0001,1,20)\n",
        "\n",
        "# log and exp\n",
        "logx = np.log(x)\n",
        "expx = np.exp(x)\n",
        "\n",
        "# the plot\n",
        "plt.plot(x,x,color=[.8,.8,.8])\n",
        "plt.plot(x,np.exp(logx),'o',markersize=8)\n",
        "plt.plot(x,np.log(expx),'x',markersize=8)\n",
        "plt.xlabel('x')\n",
        "plt.ylabel('f(g(x))')\n",
        "plt.legend(['unity','exp(log(x))','log(exp(x))'])\n",
        "plt.show()\n"
      ],
      "execution_count": null,
      "outputs": [
        {
          "output_type": "display_data",
          "data": {
            "image/png": "[encoded data removed]",
            "text/plain": [
              "<Figure size 432x288 with 1 Axes>"
            ]
          },
          "metadata": {
            "needs_background": "light"
          }
        }
      ]
    },
    {
      "cell_type": "markdown",
      "metadata": {
        "id": "6OeDgngT82kK"
      },
      "source": [
        "#Entropy and Cross-Entropy"
      ]
    },
    {
      "cell_type": "markdown",
      "metadata": {
        "id": "ZRvb56klTYss"
      },
      "source": [
        "##Entrop\n",
        "Reminder of entropy:\n",
        "\n",
        "$$H(p) = -\\sum_x p(x)\\log(p(x))$$"
      ]
    },
    {
      "cell_type": "code",
      "metadata": {
        "colab": {
          "base_uri": "https://localhost:8080/"
        },
        "id": "KF9ipkLGTTL_",
        "outputId": "e622b3f9-52c5-476c-a213-1e5fcdee7bdb"
      },
      "source": [
        "# probability of an event happening\n",
        "p = .25\n",
        "\n",
        "# NOT the correct formula!\n",
        "H = -( p*np.log(p) )\n",
        "print('Wrong entropy: ' + str(H))"
      ],
      "execution_count": null,
      "outputs": [
        {
          "output_type": "stream",
          "name": "stdout",
          "text": [
            "Wrong entropy: 0.34657359027997264\n"
          ]
        }
      ]
    },
    {
      "cell_type": "code",
      "metadata": {
        "colab": {
          "base_uri": "https://localhost:8080/"
        },
        "id": "cG3pvextTfzJ",
        "outputId": "0116bfa5-447e-46a5-a712-de33431518c8"
      },
      "source": [
        "# the correct way to compute entropy\n",
        "x = [.25,.75]\n",
        "\n",
        "H = 0\n",
        "for p in x:\n",
        "  H -= p*np.log(p)\n",
        "\n",
        "print('Correct entropy: ' + str(H))"
      ],
      "execution_count": null,
      "outputs": [
        {
          "output_type": "stream",
          "name": "stdout",
          "text": [
            "Correct entropy: 0.5623351446188083\n"
          ]
        }
      ]
    },
    {
      "cell_type": "code",
      "metadata": {
        "colab": {
          "base_uri": "https://localhost:8080/"
        },
        "id": "uZlO3uk9Ti8F",
        "outputId": "db2a8f08-14b8-49bf-a012-1ff90a0e4cc8"
      },
      "source": [
        "# also correct, written out for N=2 events\n",
        "H = -( p*np.log(p) + (1-p)*np.log(1-p) )\n",
        "print('Correct entropy: ' + str(H))"
      ],
      "execution_count": null,
      "outputs": [
        {
          "output_type": "stream",
          "name": "stdout",
          "text": [
            "Correct entropy: 0.5623351446188083\n"
          ]
        }
      ]
    },
    {
      "cell_type": "markdown",
      "metadata": {
        "id": "rCi45sIvTvp0"
      },
      "source": [
        "##Cross Entropy"
      ]
    },
    {
      "cell_type": "code",
      "metadata": {
        "colab": {
          "base_uri": "https://localhost:8080/"
        },
        "id": "mKZEyOA7Tqvz",
        "outputId": "4a9a499e-b519-4543-edba-e9850790245d"
      },
      "source": [
        "# note: all probs must sum to 1!\n",
        "p = [   1,0   ] # sum=1\n",
        "q = [ .25,.75 ] # sum=1\n",
        "\n",
        "H = 0\n",
        "for i in range(len(p)):\n",
        "  H -= p[i]*np.log(q[i])\n",
        "\n",
        "print('Cross entropy: ' + str(H))"
      ],
      "execution_count": null,
      "outputs": [
        {
          "output_type": "stream",
          "name": "stdout",
          "text": [
            "Cross entropy: 1.3862943611198906\n"
          ]
        }
      ]
    },
    {
      "cell_type": "code",
      "metadata": {
        "colab": {
          "base_uri": "https://localhost:8080/"
        },
        "id": "HtNfCqpBT3r6",
        "outputId": "1176eeac-4742-489e-b8d2-2ee10c462551"
      },
      "source": [
        "# also correct, written out for N=2 events\n",
        "H = -( p[0]*np.log(q[0]) + p[1]*np.log(q[1]) )\n",
        "print('Correct entropy: ' + str(H))\n",
        "\n",
        "# simplification\n",
        "H = -np.log(q[0])\n",
        "print('Manually simplified: ' + str(H))"
      ],
      "execution_count": null,
      "outputs": [
        {
          "output_type": "stream",
          "name": "stdout",
          "text": [
            "Correct entropy: 1.3862943611198906\n",
            "Manually simplified: 1.3862943611198906\n"
          ]
        }
      ]
    },
    {
      "cell_type": "code",
      "metadata": {
        "colab": {
          "base_uri": "https://localhost:8080/"
        },
        "id": "UsbDfK-TT5RG",
        "outputId": "c66713a1-48ea-40c2-b8b1-870b446a114c"
      },
      "source": [
        "# now using pytorch\n",
        "import torch\n",
        "import torch.nn.functional as F\n",
        "\n",
        "# note: inputs must be Tensors\n",
        "q_tensor = torch.Tensor(q)\n",
        "p_tensor = torch.Tensor(p)\n",
        "\n",
        "F.binary_cross_entropy(q_tensor,p_tensor)"
      ],
      "execution_count": null,
      "outputs": [
        {
          "output_type": "execute_result",
          "data": {
            "text/plain": [
              "tensor(1.3863)"
            ]
          },
          "metadata": {},
          "execution_count": 23
        }
      ]
    },
    {
      "cell_type": "markdown",
      "metadata": {
        "id": "iC5HV_hWWZMw"
      },
      "source": [
        "#Min/max and argmin/max"
      ]
    },
    {
      "cell_type": "markdown",
      "metadata": {
        "id": "LSCoNB_RRPQO"
      },
      "source": [
        "##Using numpy"
      ]
    },
    {
      "cell_type": "code",
      "metadata": {
        "colab": {
          "base_uri": "https://localhost:8080/"
        },
        "id": "jp-WDnncROWy",
        "outputId": "fb9e5f8a-41bf-4aa4-845f-6f89eb2ed0ac"
      },
      "source": [
        "# create a vector\n",
        "v = np.array([ 1,40,2,-3 ])\n",
        "\n",
        "# find and report the maximum and minimum values\n",
        "minval = np.min(v)\n",
        "maxval = np.max(v)\n",
        "\n",
        "print('Min,max: %g,%g' %(minval,maxval) )\n",
        "\n",
        "\n",
        "# now for the argmin/max\n",
        "minidx = np.argmin(v)\n",
        "maxidx = np.argmax(v)\n",
        "\n",
        "print('Min,max indices: %g,%g' %(minidx,maxidx) ), print(' ')\n",
        "\n",
        "# confirm\n",
        "print(f'Min val is { v[minidx] }, max val is { v[maxidx] }')"
      ],
      "execution_count": null,
      "outputs": [
        {
          "output_type": "stream",
          "name": "stdout",
          "text": [
            "Min,max: -3,40\n",
            "Min,max indices: 3,1\n",
            " \n",
            "Min val is -3, max val is 40\n"
          ]
        }
      ]
    },
    {
      "cell_type": "code",
      "metadata": {
        "colab": {
          "base_uri": "https://localhost:8080/"
        },
        "id": "HuXq5IZARYv_",
        "outputId": "f3cdfa31-81b5-4f71-a727-e27c1ccabe31"
      },
      "source": [
        "# repeat with matrix\n",
        "M = np.array([ [0,1,10], [20,8,5] ])\n",
        "print(M), print(' ')\n",
        "\n",
        "# various minima in this matrix!\n",
        "minvals1 = np.min(M)        # minimum from ENTIRE matrix\n",
        "minvals2 = np.min(M,axis=0) # minimum of each column (across rows)\n",
        "minvals3 = np.min(M,axis=1) # minimum of each row (across columns)\n",
        "\n",
        "# print them out\n",
        "print(minvals1)\n",
        "print(minvals2)\n",
        "print(minvals3)"
      ],
      "execution_count": null,
      "outputs": [
        {
          "output_type": "stream",
          "name": "stdout",
          "text": [
            "[[ 0  1 10]\n",
            " [20  8  5]]\n",
            " \n",
            "0\n",
            "[0 1 5]\n",
            "[0 5]\n"
          ]
        }
      ]
    },
    {
      "cell_type": "code",
      "metadata": {
        "colab": {
          "base_uri": "https://localhost:8080/"
        },
        "id": "uqEY8qJYRdKz",
        "outputId": "200d3b0f-0e26-4491-afb9-4668b2162897"
      },
      "source": [
        "# various minima in this matrix!\n",
        "minidx1 = np.argmin(M)        # minimum from ENTIRE matrix\n",
        "minidx2 = np.argmin(M,axis=0) # minimum of each column (across rows)\n",
        "minidx3 = np.argmin(M,axis=1) # minimum of each row (across columns)\n",
        "\n",
        "# print them out\n",
        "print(M), print(' ') # reminder\n",
        "print(minidx1)\n",
        "print(minidx2)\n",
        "print(minidx3)"
      ],
      "execution_count": null,
      "outputs": [
        {
          "output_type": "stream",
          "name": "stdout",
          "text": [
            "[[ 0  1 10]\n",
            " [20  8  5]]\n",
            " \n",
            "0\n",
            "[0 0 1]\n",
            "[0 2]\n"
          ]
        }
      ]
    },
    {
      "cell_type": "markdown",
      "metadata": {
        "id": "rAGoAZOsRgBi"
      },
      "source": [
        "##Using PyTorch"
      ]
    },
    {
      "cell_type": "code",
      "metadata": {
        "colab": {
          "base_uri": "https://localhost:8080/"
        },
        "id": "Ag-GTZFIRfRh",
        "outputId": "3255a515-8dfd-468f-ce7a-5ed6b0a92b2c"
      },
      "source": [
        "# create a vector\n",
        "v = torch.tensor([ 1,40,2,-3 ])\n",
        "\n",
        "# find and report the maximum and minimum values\n",
        "minval = torch.min(v)\n",
        "maxval = torch.max(v)\n",
        "\n",
        "print('Min,max: %g,%g' %(minval,maxval) )\n",
        "\n",
        "\n",
        "# now for the argmin/max\n",
        "minidx = torch.argmin(v)\n",
        "maxidx = torch.argmax(v)\n",
        "\n",
        "print('Min,max indices: %g,%g' %(minidx,maxidx) ), print(' ')\n",
        "\n",
        "# confirm\n",
        "print(f'Min val is { v[minidx] }, max val is { v[maxidx] }')"
      ],
      "execution_count": null,
      "outputs": [
        {
          "output_type": "stream",
          "name": "stdout",
          "text": [
            "Min,max: -3,40\n",
            "Min,max indices: 3,1\n",
            " \n",
            "Min val is -3, max val is 40\n"
          ]
        }
      ]
    },
    {
      "cell_type": "code",
      "metadata": {
        "colab": {
          "base_uri": "https://localhost:8080/"
        },
        "id": "ZZtHwXKnRlVl",
        "outputId": "b5fb81ef-4021-4016-96c0-7bee021bd44f"
      },
      "source": [
        "# repeat with matrix\n",
        "M = torch.tensor([ [0,1,10], [20,8,5] ])\n",
        "print(M), print(' ')\n",
        "\n",
        "# various minima in this matrix!\n",
        "min1 = torch.min(M)        # minimum from ENTIRE matrix\n",
        "min2 = torch.min(M,axis=0) # minimum of each column (across rows)\n",
        "min3 = torch.min(M,axis=1) # minimum of each row (across columns)\n",
        "\n",
        "# print them out\n",
        "print(min1), print(' ')\n",
        "print(min2), print(' ')\n",
        "print(min2.values)\n",
        "print(min2.indices)\n",
        "\n",
        "print(min3), print(' ')\n",
        "print(min3.values)\n",
        "print(min3.indices)"
      ],
      "execution_count": null,
      "outputs": [
        {
          "output_type": "stream",
          "name": "stdout",
          "text": [
            "tensor([[ 0,  1, 10],\n",
            "        [20,  8,  5]])\n",
            " \n",
            "tensor(0)\n",
            " \n",
            "torch.return_types.min(\n",
            "values=tensor([0, 1, 5]),\n",
            "indices=tensor([0, 0, 1]))\n",
            " \n",
            "tensor([0, 1, 5])\n",
            "tensor([0, 0, 1])\n",
            "torch.return_types.min(\n",
            "values=tensor([0, 5]),\n",
            "indices=tensor([0, 2]))\n",
            " \n",
            "tensor([0, 5])\n",
            "tensor([0, 2])\n"
          ]
        }
      ]
    },
    {
      "cell_type": "code",
      "metadata": {
        "colab": {
          "base_uri": "https://localhost:8080/"
        },
        "id": "KLAW12hHRnq2",
        "outputId": "8067365d-e86d-4e66-ca17-480e2f585099"
      },
      "source": [
        "min2.count"
      ],
      "execution_count": null,
      "outputs": [
        {
          "output_type": "execute_result",
          "data": {
            "text/plain": [
              "<function min.count>"
            ]
          },
          "metadata": {},
          "execution_count": 29
        }
      ]
    },
    {
      "cell_type": "markdown",
      "metadata": {
        "id": "lm7jJ4ftgdfC"
      },
      "source": [
        "#Mean and variance"
      ]
    },
    {
      "cell_type": "code",
      "metadata": {
        "colab": {
          "base_uri": "https://localhost:8080/"
        },
        "id": "hJi90cAbRqE3",
        "outputId": "03fdb179-a6b3-424c-8d6d-c4462026f2db"
      },
      "source": [
        "# create a list of numbers to compute the mean and variance of\n",
        "x = [1,2,4,6,5,4,0]\n",
        "n = len(x)\n",
        "\n",
        "# compute the mean\n",
        "mean1 = np.mean(x)\n",
        "mean2 = np.sum(x) / n\n",
        "\n",
        "# print them\n",
        "print(mean1)\n",
        "print(mean2)"
      ],
      "execution_count": null,
      "outputs": [
        {
          "output_type": "stream",
          "name": "stdout",
          "text": [
            "3.142857142857143\n",
            "3.142857142857143\n"
          ]
        }
      ]
    },
    {
      "cell_type": "code",
      "metadata": {
        "colab": {
          "base_uri": "https://localhost:8080/"
        },
        "id": "ZouGj786glUb",
        "outputId": "c8fad736-7d76-4b69-e372-ae8ffea6b724"
      },
      "source": [
        "# variance\n",
        "\n",
        "var1 = np.var(x)\n",
        "var2 = (1/(n-1)) * np.sum( (x-mean1)**2 )\n",
        "\n",
        "print(var1)\n",
        "print(var2)"
      ],
      "execution_count": null,
      "outputs": [
        {
          "output_type": "stream",
          "name": "stdout",
          "text": [
            "4.122448979591836\n",
            "4.809523809523809\n"
          ]
        }
      ]
    },
    {
      "cell_type": "code",
      "metadata": {
        "colab": {
          "base_uri": "https://localhost:8080/"
        },
        "id": "eDSozkRhgnvG",
        "outputId": "ea043572-636d-4dc5-a005-b73731a68e31"
      },
      "source": [
        "# uh oh!\n",
        "\n",
        "var3 = np.var(x,ddof=1)\n",
        "\n",
        "print(var3)\n",
        "print(var2)"
      ],
      "execution_count": null,
      "outputs": [
        {
          "output_type": "stream",
          "name": "stdout",
          "text": [
            "4.809523809523809\n",
            "4.809523809523809\n"
          ]
        }
      ]
    },
    {
      "cell_type": "code",
      "metadata": {
        "colab": {
          "base_uri": "https://localhost:8080/"
        },
        "id": "-Hk97wsagpsT",
        "outputId": "c40e0f4c-976e-4490-c87c-fd17dbed63e2"
      },
      "source": [
        "# does it matter for large N? \n",
        "\n",
        "N = 10000\n",
        "x = np.random.randint(0,high=20,size=N)\n",
        "\n",
        "var0 = np.var(x,ddof=0) # default\n",
        "var1 = np.var(x,ddof=1) # unbiased\n",
        "\n",
        "print(var0)\n",
        "print(var1)"
      ],
      "execution_count": null,
      "outputs": [
        {
          "output_type": "stream",
          "name": "stdout",
          "text": [
            "33.35011079\n",
            "33.35344613461346\n"
          ]
        }
      ]
    },
    {
      "cell_type": "markdown",
      "metadata": {
        "id": "Lr6u5OJCAuAu"
      },
      "source": [
        "#Random sampling and sampling variability"
      ]
    },
    {
      "cell_type": "code",
      "metadata": {
        "id": "V83XY-Llgs_9",
        "colab": {
          "base_uri": "https://localhost:8080/"
        },
        "outputId": "d719d97f-0ab3-4a38-f837-a451fda9330e"
      },
      "source": [
        "# create a list of numbers to compute the mean and variance of\n",
        "x = [1,2,4,6,5,4,0,-4,5,-2,6,10,-9,1,3,-6]\n",
        "n = len(x)\n",
        "\n",
        "# compute the population mean\n",
        "popmean = np.mean(x)\n",
        "\n",
        "# compute a sample mean\n",
        "sample = np.random.choice(x,size=5,replace=True)\n",
        "sampmean = np.mean(sample)\n",
        "\n",
        "# print them\n",
        "print(popmean)\n",
        "print(sampmean)"
      ],
      "execution_count": null,
      "outputs": [
        {
          "output_type": "stream",
          "name": "stdout",
          "text": [
            "1.625\n",
            "0.2\n"
          ]
        }
      ]
    },
    {
      "cell_type": "code",
      "metadata": {
        "colab": {
          "base_uri": "https://localhost:8080/"
        },
        "id": "iPlyIvNxAzRG",
        "outputId": "8a9e3761-99ba-4d29-cc14-641566fe10c7"
      },
      "source": [
        "# compute lots of sample means\n",
        "\n",
        "# number of experiments to run\n",
        "nExpers = 10000\n",
        "\n",
        "# run the experiment!\n",
        "sampleMeans = np.zeros(nExpers)\n",
        "for i in range(nExpers):\n",
        "\n",
        "  # step 1: draw a sample\n",
        "  sample = np.random.choice(x,size=15,replace=True)\n",
        "\n",
        "  # step 2: compute its mean\n",
        "  sampleMeans[i] = np.mean(sample)\n",
        "\n",
        "\n",
        "\n",
        "# show the results as a histogram\n",
        "plt.hist(sampleMeans,bins=40,density=True)\n",
        "plt.plot([popmean,popmean],[0,.3],'m--')\n",
        "plt.ylabel('Count')\n",
        "plt.xlabel('Sample mean')\n",
        "plt.show()"
      ],
      "execution_count": null,
      "outputs": [
        {
          "output_type": "display_data",
          "data": {
            "image/png": "[encoded data removed]",
            "text/plain": [
              "<Figure size 432x288 with 1 Axes>"
            ]
          },
          "metadata": {
            "needs_background": "light"
          }
        }
      ]
    },
    {
      "cell_type": "markdown",
      "metadata": {
        "id": "ax4-bGppA4Cd"
      },
      "source": [
        "# Identical randomness via seeding"
      ]
    },
    {
      "cell_type": "code",
      "metadata": {
        "colab": {
          "base_uri": "https://localhost:8080/"
        },
        "id": "hgBqce9-A1wo",
        "outputId": "a560dac7-781a-4c17-986d-50f48f20fbd3"
      },
      "source": [
        "# generate a few random numbers\n",
        "np.random.randn(5)"
      ],
      "execution_count": null,
      "outputs": [
        {
          "output_type": "execute_result",
          "data": {
            "text/plain": [
              "array([-0.93487688,  0.11117134, -0.37810789, -1.45390534, -1.55711939])"
            ]
          },
          "metadata": {},
          "execution_count": 36
        }
      ]
    },
    {
      "cell_type": "code",
      "metadata": {
        "colab": {
          "base_uri": "https://localhost:8080/"
        },
        "id": "MJiLtx2SDB40",
        "outputId": "06b82e73-4a30-47c2-a050-31d99e6d76a6"
      },
      "source": [
        "# repeat after fixing the seed (old-but-still-widely-used method)\n",
        "np.random.seed(17)\n",
        "print(np.random.randn(5))\n",
        "print(np.random.randn(5))\n",
        "\n",
        "# [ 0.27626589 -1.85462808  0.62390111  1.14531129  1.03719047]\n",
        "# [ 1.88663893 -0.11169829 -0.36210134  0.14867505 -0.43778315]"
      ],
      "execution_count": null,
      "outputs": [
        {
          "output_type": "stream",
          "name": "stdout",
          "text": [
            "[ 0.27626589 -1.85462808  0.62390111  1.14531129  1.03719047]\n",
            "[ 1.88663893 -0.11169829 -0.36210134  0.14867505 -0.43778315]\n"
          ]
        }
      ]
    },
    {
      "cell_type": "markdown",
      "metadata": {
        "id": "lEsknkRmDF2j"
      },
      "source": [
        "##New seed mechanism in numpy"
      ]
    },
    {
      "cell_type": "code",
      "metadata": {
        "colab": {
          "base_uri": "https://localhost:8080/"
        },
        "id": "xrHzGgX8DDQd",
        "outputId": "a43ab2fe-fdcc-4a19-f463-c0a2bce6a3f3"
      },
      "source": [
        "randseed1 = np.random.RandomState(17)\n",
        "randseed2 = np.random.RandomState(20210530)\n",
        "\n",
        "print( randseed1.randn(5) ) # same sequence\n",
        "print( randseed2.randn(5) ) # different from above, but same each time\n",
        "print( randseed1.randn(5) ) # same as two up\n",
        "print( randseed2.randn(5) ) # same as two up\n",
        "print( np.random.randn(5) ) # different every time\n",
        "\n",
        "# [ 0.27626589 -1.85462808  0.62390111  1.14531129  1.03719047]\n",
        "# [-0.24972681 -1.01951826  2.23461339  0.72764703  1.2921122 ]\n",
        "# [ 1.88663893 -0.11169829 -0.36210134  0.14867505 -0.43778315]\n",
        "# [ 1.15494929 -0.0015467  -0.11196868 -1.08136725  0.10265891]\n",
        "# [ 2.171257    1.15231025 -1.81881234 -0.13804934  0.53983961]"
      ],
      "execution_count": null,
      "outputs": [
        {
          "output_type": "stream",
          "name": "stdout",
          "text": [
            "[ 0.27626589 -1.85462808  0.62390111  1.14531129  1.03719047]\n",
            "[-0.24972681 -1.01951826  2.23461339  0.72764703  1.2921122 ]\n",
            "[ 1.88663893 -0.11169829 -0.36210134  0.14867505 -0.43778315]\n",
            "[ 1.15494929 -0.0015467  -0.11196868 -1.08136725  0.10265891]\n",
            "[ 2.171257    1.15231025 -1.81881234 -0.13804934  0.53983961]\n"
          ]
        }
      ]
    },
    {
      "cell_type": "markdown",
      "metadata": {
        "id": "XQO7b334DM-X"
      },
      "source": [
        "##Using PyTorch"
      ]
    },
    {
      "cell_type": "code",
      "metadata": {
        "colab": {
          "base_uri": "https://localhost:8080/"
        },
        "id": "FMpWAY_DDK8w",
        "outputId": "ad344acb-849a-4e52-81a8-6113ebcadbf7"
      },
      "source": [
        "torch.randn(5)"
      ],
      "execution_count": null,
      "outputs": [
        {
          "output_type": "execute_result",
          "data": {
            "text/plain": [
              "tensor([-1.7985,  0.7006,  0.5257,  1.4068, -0.2897])"
            ]
          },
          "metadata": {},
          "execution_count": 39
        }
      ]
    },
    {
      "cell_type": "code",
      "metadata": {
        "colab": {
          "base_uri": "https://localhost:8080/"
        },
        "id": "qVeggsLkDSlm",
        "outputId": "95b93f18-59be-4688-a4a7-92ebaec7334c"
      },
      "source": [
        "torch.manual_seed(17)\n",
        "print( torch.randn(5) )\n",
        "\n",
        "# torch's seed doesn't spread to numpy\n",
        "print( np.random.randn(5) )"
      ],
      "execution_count": null,
      "outputs": [
        {
          "output_type": "stream",
          "name": "stdout",
          "text": [
            "tensor([-1.4135,  0.2336,  0.0340,  0.3499, -0.0145])\n",
            "[-1.77528229  1.31487654 -0.47344805 -1.0922299  -0.25002744]\n"
          ]
        }
      ]
    },
    {
      "cell_type": "markdown",
      "metadata": {
        "id": "WHiWKvxyjdzR"
      },
      "source": [
        "#The t-test"
      ]
    },
    {
      "cell_type": "code",
      "metadata": {
        "id": "2wtsKQtgjhVi"
      },
      "source": [
        "import scipy.stats as stats"
      ],
      "execution_count": null,
      "outputs": []
    },
    {
      "cell_type": "code",
      "metadata": {
        "colab": {
          "base_uri": "https://localhost:8080/"
        },
        "id": "j7ulu22hji7E",
        "outputId": "37fc10ba-6807-4b22-8834-4314117e50ff"
      },
      "source": [
        "# parameters\n",
        "n1 = 30   # samples in dataset 1\n",
        "n2 = 40   # ...and 2\n",
        "mu1 = 1   # population mean in dataset 1\n",
        "mu2 = 2   # population mean in dataset 2\n",
        "\n",
        "# generate the data\n",
        "data1 = mu1 + np.random.randn(n1)\n",
        "data2 = mu2 + np.random.randn(n2)\n",
        "\n",
        "\n",
        "\n",
        "# plot them\n",
        "plt.plot(np.zeros(n1),data1,'ro',markerfacecolor='w',markersize=14)\n",
        "plt.plot(np.ones(n2), data2,'bs',markerfacecolor='w',markersize=14)\n",
        "plt.xlim([-1,2])\n",
        "plt.xticks([0,1],labels=['Group 1','Group 2'])\n",
        "plt.show()"
      ],
      "execution_count": null,
      "outputs": [
        {
          "output_type": "display_data",
          "data": {
            "image/png": "[encoded data removed]",
            "text/plain": [
              "<Figure size 432x288 with 1 Axes>"
            ]
          },
          "metadata": {
            "needs_background": "light"
          }
        }
      ]
    },
    {
      "cell_type": "code",
      "metadata": {
        "colab": {
          "base_uri": "https://localhost:8080/"
        },
        "id": "acbpY9aZjkyQ",
        "outputId": "77c7dacb-cb75-49e7-d789-d70d08f48545"
      },
      "source": [
        "# t-test via stats package\n",
        "\n",
        "# _ind = independent samples\n",
        "t,p = stats.ttest_ind(data1,data2)\n",
        "print(t)\n",
        "print(p)"
      ],
      "execution_count": null,
      "outputs": [
        {
          "output_type": "stream",
          "name": "stdout",
          "text": [
            "-3.9795870896140824\n",
            "0.0001701882699200114\n"
          ]
        }
      ]
    },
    {
      "cell_type": "code",
      "metadata": {
        "colab": {
          "base_uri": "https://localhost:8080/"
        },
        "id": "ig_ZqWMajmOB",
        "outputId": "4283e2cd-7463-4bad-d824-1af60e11f716"
      },
      "source": [
        "# common way to show t-test results in a plot\n",
        "fig = plt.figure(figsize=(10,4))\n",
        "plt.rcParams.update({'font.size':12}) # change the font size\n",
        "\n",
        "plt.plot(0+np.random.randn(n1)/15, data1, 'ro',markerfacecolor='w',markersize=14)\n",
        "plt.plot(1+np.random.randn(n2)/15, data2, 'bs',markerfacecolor='w',markersize=14)\n",
        "plt.xlim([-1,2])\n",
        "plt.xticks([0,1],labels=['Group 1','Group 2'])\n",
        "\n",
        "# set the title to include the t-value and p-value\n",
        "plt.title(f't = {t:.2f}, p={p:.3f}')\n",
        "\n",
        "plt.show()"
      ],
      "execution_count": null,
      "outputs": [
        {
          "output_type": "display_data",
          "data": {
            "image/png": "[encoded data removed]",
            "text/plain": [
              "<Figure size 720x288 with 1 Axes>"
            ]
          },
          "metadata": {
            "needs_background": "light"
          }
        }
      ]
    },
    {
      "cell_type": "markdown",
      "metadata": {
        "id": "Rre7QRLU4CCB"
      },
      "source": [
        "#Derivatives: intuition and polynomials"
      ]
    },
    {
      "cell_type": "code",
      "metadata": {
        "id": "6ZRqSd-C3zt5"
      },
      "source": [
        "# sympy = symbolic math in Python\n",
        "import sympy as sym\n",
        "import sympy.plotting.plot as symplot"
      ],
      "execution_count": null,
      "outputs": []
    },
    {
      "cell_type": "code",
      "metadata": {
        "colab": {
          "base_uri": "https://localhost:8080/"
        },
        "id": "g42Vf-fD4IXn",
        "outputId": "2f1bfe8d-8f3e-4112-a650-6aed1e76c5eb"
      },
      "source": [
        "# create symbolic variables in sympy\n",
        "x = sym.symbols('x')\n",
        "\n",
        "# create a function\n",
        "fx = 2*x**2\n",
        "\n",
        "# compute its derivative\n",
        "df = sym.diff(fx,x)\n",
        "\n",
        "# print them\n",
        "print(fx)\n",
        "print(df)"
      ],
      "execution_count": null,
      "outputs": [
        {
          "output_type": "stream",
          "name": "stdout",
          "text": [
            "2*x**2\n",
            "4*x\n"
          ]
        }
      ]
    },
    {
      "cell_type": "code",
      "metadata": {
        "colab": {
          "base_uri": "https://localhost:8080/"
        },
        "id": "0_GYb1yO4I_5",
        "outputId": "975f7310-2e9b-456d-8a4f-29ff4f8c7b90"
      },
      "source": [
        "# plot them\n",
        "symplot(fx,(x,-4,4),title='The function')\n",
        "plt.show()\n",
        "\n",
        "symplot(df,(x,-4,4),title='Its derivative')\n",
        "plt.show()\n"
      ],
      "execution_count": null,
      "outputs": [
        {
          "output_type": "display_data",
          "data": {
            "image/png": "[encoded data removed]",
            "text/plain": [
              "<Figure size 432x288 with 1 Axes>"
            ]
          },
          "metadata": {
            "needs_background": "light"
          }
        },
        {
          "output_type": "display_data",
          "data": {
            "image/png": "[encoded data removed]",
            "text/plain": [
              "<Figure size 432x288 with 1 Axes>"
            ]
          },
          "metadata": {
            "needs_background": "light"
          }
        }
      ]
    },
    {
      "cell_type": "code",
      "metadata": {
        "colab": {
          "base_uri": "https://localhost:8080/"
        },
        "id": "tdsoDScp4MCv",
        "outputId": "8f5fca2f-af79-448e-e601-fda04e61dfa8"
      },
      "source": [
        "# repeat with relu and sigmoid\n",
        "\n",
        "# create symbolic functions\n",
        "relu = sym.Max(0,x)\n",
        "sigmoid = 1 / (1+sym.exp(-x))\n",
        "\n",
        "# graph the functions\n",
        "p = symplot(relu,(x,-4,4),label='ReLU',show=False,line_color='blue')\n",
        "p.extend( symplot(sigmoid,(x,-4,4),label='Sigmoid',show=False,line_color='red') )\n",
        "p.legend = True\n",
        "p.title = 'The functions'\n",
        "p.show()\n",
        "\n",
        "\n",
        "# graph their derivatives\n",
        "p = symplot(sym.diff(relu),(x,-4,4),label='df(ReLU)',show=False,line_color='blue')\n",
        "p.extend( symplot(sym.diff(sigmoid),(x,-4,4),label='df(Sigmoid)',show=False,line_color='red') )\n",
        "p.legend = True\n",
        "p.title = 'The derivatives'\n",
        "p.show()\n"
      ],
      "execution_count": null,
      "outputs": [
        {
          "output_type": "display_data",
          "data": {
            "image/png": "[encoded data removed]",
            "text/plain": [
              "<Figure size 432x288 with 1 Axes>"
            ]
          },
          "metadata": {
            "needs_background": "light"
          }
        },
        {
          "output_type": "display_data",
          "data": {
            "image/png": "[encoded data removed]",
            "text/plain": [
              "<Figure size 432x288 with 1 Axes>"
            ]
          },
          "metadata": {
            "needs_background": "light"
          }
        }
      ]
    },
    {
      "cell_type": "markdown",
      "metadata": {
        "id": "dlhK5H9m4ZLh"
      },
      "source": [
        "#Derivatives: product and chain rules"
      ]
    },
    {
      "cell_type": "code",
      "metadata": {
        "id": "g0BWvLip6ujP"
      },
      "source": [
        "# make the equations look nicer\n",
        "from IPython.display import display"
      ],
      "execution_count": null,
      "outputs": []
    },
    {
      "cell_type": "code",
      "metadata": {
        "colab": {
          "base_uri": "https://localhost:8080/"
        },
        "id": "PFOxQdYJ6-0H",
        "outputId": "74de2b16-3ff8-4add-af05-07966721f987"
      },
      "source": [
        "# create symbolic variables in sympy\n",
        "x = sym.symbols('x')\n",
        "\n",
        "# create two functions\n",
        "fx = 2*x**2\n",
        "gx = 4*x**3 - 3*x**4\n",
        "\n",
        "# compute their individual derivatives\n",
        "df = sym.diff(fx)\n",
        "dg = sym.diff(gx)\n",
        "\n",
        "# apply the product rule \"manually\"\n",
        "manual = df*gx + fx*dg\n",
        "thewrongway = df*dg\n",
        "\n",
        "# via sympy\n",
        "viasympy = sym.diff( fx*gx )\n",
        "\n",
        "\n",
        "# print everything\n",
        "print('The functions:')\n",
        "display(fx)\n",
        "display(gx)\n",
        "print(' ')\n",
        "\n",
        "print('Their derivatives:')\n",
        "display(df)\n",
        "display(dg)\n",
        "print(' ')\n",
        "\n",
        "print('Manual product rule:')\n",
        "display(manual)\n",
        "print(' ')\n",
        "\n",
        "print('Via sympy:')\n",
        "display(viasympy)\n",
        "print(' ')\n",
        "\n",
        "\n",
        "print('The wrong way:')\n",
        "display(thewrongway)"
      ],
      "execution_count": null,
      "outputs": [
        {
          "output_type": "stream",
          "name": "stdout",
          "text": [
            "The functions:\n"
          ]
        },
        {
          "output_type": "display_data",
          "data": {
            "text/latex": "$\\displaystyle 2 x^{2}$",
            "text/plain": [
              "2*x**2"
            ]
          },
          "metadata": {}
        },
        {
          "output_type": "display_data",
          "data": {
            "text/latex": "$\\displaystyle - 3 x^{4} + 4 x^{3}$",
            "text/plain": [
              "-3*x**4 + 4*x**3"
            ]
          },
          "metadata": {}
        },
        {
          "output_type": "stream",
          "name": "stdout",
          "text": [
            " \n",
            "Their derivatives:\n"
          ]
        },
        {
          "output_type": "display_data",
          "data": {
            "text/latex": "$\\displaystyle 4 x$",
            "text/plain": [
              "4*x"
            ]
          },
          "metadata": {}
        },
        {
          "output_type": "display_data",
          "data": {
            "text/latex": "$\\displaystyle - 12 x^{3} + 12 x^{2}$",
            "text/plain": [
              "-12*x**3 + 12*x**2"
            ]
          },
          "metadata": {}
        },
        {
          "output_type": "stream",
          "name": "stdout",
          "text": [
            " \n",
            "Manual product rule:\n"
          ]
        },
        {
          "output_type": "display_data",
          "data": {
            "text/latex": "$\\displaystyle 2 x^{2} \\left(- 12 x^{3} + 12 x^{2}\\right) + 4 x \\left(- 3 x^{4} + 4 x^{3}\\right)$",
            "text/plain": [
              "2*x**2*(-12*x**3 + 12*x**2) + 4*x*(-3*x**4 + 4*x**3)"
            ]
          },
          "metadata": {}
        },
        {
          "output_type": "stream",
          "name": "stdout",
          "text": [
            " \n",
            "Via sympy:\n"
          ]
        },
        {
          "output_type": "display_data",
          "data": {
            "text/latex": "$\\displaystyle 2 x^{2} \\left(- 12 x^{3} + 12 x^{2}\\right) + 4 x \\left(- 3 x^{4} + 4 x^{3}\\right)$",
            "text/plain": [
              "2*x**2*(-12*x**3 + 12*x**2) + 4*x*(-3*x**4 + 4*x**3)"
            ]
          },
          "metadata": {}
        },
        {
          "output_type": "stream",
          "name": "stdout",
          "text": [
            " \n",
            "The wrong way:\n"
          ]
        },
        {
          "output_type": "display_data",
          "data": {
            "text/latex": "$\\displaystyle 4 x \\left(- 12 x^{3} + 12 x^{2}\\right)$",
            "text/plain": [
              "4*x*(-12*x**3 + 12*x**2)"
            ]
          },
          "metadata": {}
        }
      ]
    },
    {
      "cell_type": "code",
      "metadata": {
        "colab": {
          "base_uri": "https://localhost:8080/"
        },
        "id": "cNBe9Nr67AOb",
        "outputId": "8d3a3893-c77c-4143-d25a-6d4f518747c3"
      },
      "source": [
        "# repeat with chain rule\n",
        "gx = x**2 + 4*x**3\n",
        "fx = ( gx )**5\n",
        "\n",
        "print('The function:')\n",
        "display(fx)\n",
        "print(' ')\n",
        "\n",
        "print('Its derivative:')\n",
        "display(sym.diff(fx))"
      ],
      "execution_count": null,
      "outputs": [
        {
          "output_type": "stream",
          "name": "stdout",
          "text": [
            "The function:\n"
          ]
        },
        {
          "output_type": "display_data",
          "data": {
            "text/latex": "$\\displaystyle \\left(4 x^{3} + x^{2}\\right)^{5}$",
            "text/plain": [
              "(4*x**3 + x**2)**5"
            ]
          },
          "metadata": {}
        },
        {
          "output_type": "stream",
          "name": "stdout",
          "text": [
            " \n",
            "Its derivative:\n"
          ]
        },
        {
          "output_type": "display_data",
          "data": {
            "text/latex": "$\\displaystyle \\left(60 x^{2} + 10 x\\right) \\left(4 x^{3} + x^{2}\\right)^{4}$",
            "text/plain": [
              "(60*x**2 + 10*x)*(4*x**3 + x**2)**4"
            ]
          },
          "metadata": {}
        }
      ]
    }
  ]
}